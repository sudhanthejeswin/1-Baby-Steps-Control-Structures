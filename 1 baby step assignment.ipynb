{
 "cells": [
  {
   "cell_type": "code",
   "execution_count": 3,
   "id": "e82af084-a625-4401-8294-f7aec07af674",
   "metadata": {},
   "outputs": [
    {
     "name": "stdout",
     "output_type": "stream",
     "text": [
      "Welcome to Assignment-1\n"
     ]
    }
   ],
   "source": [
    "print(\"Welcome to Assignment-1\")"
   ]
  },
  {
   "cell_type": "markdown",
   "id": "d090b618-fc45-41fc-9f96-2762a6de1d78",
   "metadata": {},
   "source": []
  },
  {
   "cell_type": "code",
   "execution_count": 10,
   "id": "318745e9-b668-4f27-825e-b3283ed023f4",
   "metadata": {},
   "outputs": [
    {
     "name": "stdin",
     "output_type": "stream",
     "text": [
      "Num1 =  10\n",
      "Num2 =  30\n"
     ]
    },
    {
     "name": "stdout",
     "output_type": "stream",
     "text": [
      "Add = 40\n"
     ]
    }
   ],
   "source": [
    "num1 = int(input(\"Num1 = \"))\n",
    "num2 = int(input(\"Num2 = \"))\n",
    "add = num1 + num2\n",
    "print(\"Add =\",add)"
   ]
  },
  {
   "cell_type": "code",
   "execution_count": 18,
   "id": "89cfebc3-9d00-488d-9cde-df8a772dd2e8",
   "metadata": {},
   "outputs": [
    {
     "name": "stdin",
     "output_type": "stream",
     "text": [
      "Enter the BMI Index:  34\n"
     ]
    },
    {
     "name": "stdout",
     "output_type": "stream",
     "text": [
      "Obesity\n"
     ]
    }
   ],
   "source": [
    "num = int(input(\"Enter the BMI Index: \"))\n",
    "if(num < 16.5):\n",
    "    print(\"Underweight\")\n",
    "elif(num < 25):\n",
    "    print(\"Normal weight\")\n",
    "elif(num < 30):\n",
    "    print(\"Overweight\")\n",
    "else:\n",
    "    print(\"Obesity\")"
   ]
  },
  {
   "cell_type": "code",
   "execution_count": null,
   "id": "26eb8608-8b5e-4025-abb6-53d159bd2bf5",
   "metadata": {},
   "outputs": [],
   "source": []
  }
 ],
 "metadata": {
  "kernelspec": {
   "display_name": "Python 3 (ipykernel)",
   "language": "python",
   "name": "python3"
  },
  "language_info": {
   "codemirror_mode": {
    "name": "ipython",
    "version": 3
   },
   "file_extension": ".py",
   "mimetype": "text/x-python",
   "name": "python",
   "nbconvert_exporter": "python",
   "pygments_lexer": "ipython3",
   "version": "3.12.4"
  }
 },
 "nbformat": 4,
 "nbformat_minor": 5
}
